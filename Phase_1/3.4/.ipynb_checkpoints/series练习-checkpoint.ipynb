{
 "cells": [
  {
   "cell_type": "code",
   "execution_count": 2,
   "id": "a4ebd72d",
   "metadata": {},
   "outputs": [],
   "source": [
    "import numpy as np\n",
    "from pandas import Series"
   ]
  },
  {
   "cell_type": "code",
   "execution_count": 20,
   "id": "523eb063",
   "metadata": {},
   "outputs": [
    {
     "data": {
      "text/plain": [
       "tom          72\n",
       "lucy         63\n",
       "jack         75\n",
       "rose         82\n",
       "hanmeimei    61\n",
       "lilei        51\n",
       "dtype: int32"
      ]
     },
     "execution_count": 20,
     "metadata": {},
     "output_type": "execute_result"
    }
   ],
   "source": [
    "sorce=np.random.randint(40,100,size=6)\n",
    "name=['tom','lucy','jack','rose','hanmeimei','lilei']\n",
    "grade=Series(data=sorce,index=name)\n",
    "grade"
   ]
  },
  {
   "cell_type": "code",
   "execution_count": 9,
   "id": "f8a627a5",
   "metadata": {},
   "outputs": [
    {
     "data": {
      "text/plain": [
       "69"
      ]
     },
     "execution_count": 9,
     "metadata": {},
     "output_type": "execute_result"
    }
   ],
   "source": [
    "grade.loc['tom']"
   ]
  },
  {
   "cell_type": "code",
   "execution_count": 10,
   "id": "fde7136a",
   "metadata": {},
   "outputs": [
    {
     "data": {
      "text/plain": [
       "41"
      ]
     },
     "execution_count": 10,
     "metadata": {},
     "output_type": "execute_result"
    }
   ],
   "source": [
    "grade.lucy"
   ]
  },
  {
   "cell_type": "code",
   "execution_count": 11,
   "id": "482b96c8",
   "metadata": {},
   "outputs": [
    {
     "data": {
      "text/plain": [
       "tom     69\n",
       "lucy    41\n",
       "dtype: int32"
      ]
     },
     "execution_count": 11,
     "metadata": {},
     "output_type": "execute_result"
    }
   ],
   "source": [
    "grade.loc[['tom','lucy']]"
   ]
  },
  {
   "cell_type": "code",
   "execution_count": 19,
   "id": "9259474c",
   "metadata": {},
   "outputs": [
    {
     "data": {
      "text/plain": [
       "tom          False\n",
       "lucy          True\n",
       "jack         False\n",
       "rose         False\n",
       "hanmeimei     True\n",
       "lilei        False\n",
       "dtype: bool"
      ]
     },
     "execution_count": 19,
     "metadata": {},
     "output_type": "execute_result"
    }
   ],
   "source": [
    "grade<60\n"
   ]
  },
  {
   "cell_type": "code",
   "execution_count": 13,
   "id": "6e9d4e66",
   "metadata": {},
   "outputs": [
    {
     "data": {
      "text/plain": [
       "lucy         41\n",
       "hanmeimei    42\n",
       "lilei        59\n",
       "dtype: int32"
      ]
     },
     "execution_count": 13,
     "metadata": {},
     "output_type": "execute_result"
    }
   ],
   "source": [
    "#获取不及格\n",
    "grade[grade<60]"
   ]
  },
  {
   "cell_type": "code",
   "execution_count": 14,
   "id": "d5ca85ac",
   "metadata": {},
   "outputs": [
    {
     "data": {
      "text/plain": [
       "58.5"
      ]
     },
     "execution_count": 14,
     "metadata": {},
     "output_type": "execute_result"
    }
   ],
   "source": [
    "#获取平均成绩\n",
    "np.mean(grade)"
   ]
  },
  {
   "cell_type": "code",
   "execution_count": 15,
   "id": "d91f4e51",
   "metadata": {},
   "outputs": [
    {
     "data": {
      "text/plain": [
       "58.5"
      ]
     },
     "execution_count": 15,
     "metadata": {},
     "output_type": "execute_result"
    }
   ],
   "source": [
    "grade.mean()"
   ]
  },
  {
   "cell_type": "code",
   "execution_count": 16,
   "id": "1fe11a9e",
   "metadata": {},
   "outputs": [
    {
     "data": {
      "text/plain": [
       "73"
      ]
     },
     "execution_count": 16,
     "metadata": {},
     "output_type": "execute_result"
    }
   ],
   "source": [
    "#获取最高成绩\n",
    "grade.max()"
   ]
  },
  {
   "cell_type": "code",
   "execution_count": 21,
   "id": "3ef5f233",
   "metadata": {},
   "outputs": [
    {
     "data": {
      "text/plain": [
       "tom          72\n",
       "lucy         63\n",
       "jack         75\n",
       "rose         82\n",
       "hanmeimei    61\n",
       "lilei        61\n",
       "dtype: int32"
      ]
     },
     "execution_count": 21,
     "metadata": {},
     "output_type": "execute_result"
    }
   ],
   "source": [
    "grade.loc[\"lilei\"]+=10\n",
    "grade"
   ]
  },
  {
   "cell_type": "code",
   "execution_count": 42,
   "id": "06551890",
   "metadata": {},
   "outputs": [
    {
     "data": {
      "text/plain": [
       "hanmeimei    61\n",
       "lilei        61\n",
       "lucy         63\n",
       "tom          72\n",
       "jack         75\n",
       "rose         82\n",
       "alex         87\n",
       "dtype: int64"
      ]
     },
     "execution_count": 42,
     "metadata": {},
     "output_type": "execute_result"
    }
   ],
   "source": [
    "s=grade.sort_values()\n",
    "s"
   ]
  },
  {
   "cell_type": "code",
   "execution_count": 43,
   "id": "6fe2136c",
   "metadata": {},
   "outputs": [
    {
     "data": {
      "text/plain": [
       "jack    75\n",
       "dtype: int64"
      ]
     },
     "execution_count": 43,
     "metadata": {},
     "output_type": "execute_result"
    }
   ],
   "source": [
    "#获取第三名成绩的学生\n",
    "s[-3:-2]"
   ]
  },
  {
   "cell_type": "code",
   "execution_count": 44,
   "id": "21a704b4",
   "metadata": {},
   "outputs": [
    {
     "data": {
      "text/plain": [
       "jack    75\n",
       "dtype: int64"
      ]
     },
     "execution_count": 44,
     "metadata": {},
     "output_type": "execute_result"
    }
   ],
   "source": [
    "#改进  获取第三名成绩的学生\n",
    "grade.loc[s==s.iloc[-3]]"
   ]
  },
  {
   "cell_type": "code",
   "execution_count": null,
   "id": "0f0dd430",
   "metadata": {},
   "outputs": [],
   "source": []
  },
  {
   "cell_type": "code",
   "execution_count": 34,
   "id": "4cdbb953",
   "metadata": {},
   "outputs": [
    {
     "data": {
      "text/plain": [
       "tom          72\n",
       "lucy         63\n",
       "jack         75\n",
       "rose         82\n",
       "hanmeimei    61\n",
       "lilei        61\n",
       "alex         87\n",
       "dtype: int64"
      ]
     },
     "execution_count": 34,
     "metadata": {},
     "output_type": "execute_result"
    }
   ],
   "source": [
    "#添加 一个新生 alex\n",
    "grade[\"alex\"]=87\n",
    "grade"
   ]
  },
  {
   "cell_type": "code",
   "execution_count": 61,
   "id": "2ce15510",
   "metadata": {},
   "outputs": [
    {
     "data": {
      "text/plain": [
       "tom          72\n",
       "lucy         63\n",
       "jack         75\n",
       "rose         82\n",
       "hanmeimei    61\n",
       "lilei        61\n",
       "alex         87\n",
       "dtype: int64"
      ]
     },
     "execution_count": 61,
     "metadata": {},
     "output_type": "execute_result"
    }
   ],
   "source": [
    "#添加多个\n",
    "s=Series(data={'liming':66,\n",
    "              'xiaohong':56\n",
    "              })\n",
    "\n",
    "# grade.append(Series数据)\n",
    "s=grade.append(s)\n",
    "grade"
   ]
  },
  {
   "cell_type": "code",
   "execution_count": 62,
   "id": "670bd7dc",
   "metadata": {},
   "outputs": [
    {
     "data": {
      "text/plain": [
       "tom          72\n",
       "lucy         63\n",
       "jack         75\n",
       "rose         82\n",
       "hanmeimei    61\n",
       "lilei        61\n",
       "alex         87\n",
       "liming       66\n",
       "xiaohong     56\n",
       "dtype: int64"
      ]
     },
     "execution_count": 62,
     "metadata": {},
     "output_type": "execute_result"
    }
   ],
   "source": [
    "s"
   ]
  },
  {
   "cell_type": "code",
   "execution_count": 63,
   "id": "9853bab1",
   "metadata": {},
   "outputs": [
    {
     "data": {
      "text/plain": [
       "array([72, 63, 75, 82, 61, 87, 66, 56], dtype=int64)"
      ]
     },
     "execution_count": 63,
     "metadata": {},
     "output_type": "execute_result"
    }
   ],
   "source": [
    "#值去重\n",
    "s.unique()"
   ]
  }
 ],
 "metadata": {
  "kernelspec": {
   "display_name": "Python 3 (ipykernel)",
   "language": "python",
   "name": "python3"
  },
  "language_info": {
   "codemirror_mode": {
    "name": "ipython",
    "version": 3
   },
   "file_extension": ".py",
   "mimetype": "text/x-python",
   "name": "python",
   "nbconvert_exporter": "python",
   "pygments_lexer": "ipython3",
   "version": "3.7.8"
  }
 },
 "nbformat": 4,
 "nbformat_minor": 5
}
