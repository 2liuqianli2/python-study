{
 "cells": [
  {
   "cell_type": "code",
   "execution_count": 2,
   "id": "452798ff",
   "metadata": {},
   "outputs": [],
   "source": [
    "import numpy as np\n",
    "arr=np.random.randint(1,100,size=(3,4))"
   ]
  },
  {
   "cell_type": "code",
   "execution_count": 3,
   "id": "8ee21033",
   "metadata": {},
   "outputs": [
    {
     "data": {
      "text/plain": [
       "array([[93, 63, 66,  3],\n",
       "       [58, 14, 99, 79],\n",
       "       [44, 71, 72, 95]])"
      ]
     },
     "execution_count": 3,
     "metadata": {},
     "output_type": "execute_result"
    }
   ],
   "source": [
    "arr"
   ]
  },
  {
   "cell_type": "code",
   "execution_count": 4,
   "id": "0f42ad0b",
   "metadata": {},
   "outputs": [
    {
     "data": {
      "text/plain": [
       "array([14, 99])"
      ]
     },
     "execution_count": 4,
     "metadata": {},
     "output_type": "execute_result"
    }
   ],
   "source": [
    "#取多列\n",
    "arr[1,[1,2]]\n",
    "#取1，2列\n",
    "arr[:,[1,2]]"
   ]
  },
  {
   "cell_type": "code",
   "execution_count": 6,
   "id": "2b2cac8c",
   "metadata": {},
   "outputs": [
    {
     "data": {
      "text/plain": [
       "array([14, 71])"
      ]
     },
     "execution_count": 6,
     "metadata": {},
     "output_type": "execute_result"
    }
   ],
   "source": [
    "#取多行\n",
    "arr[[1,2],1]\n",
    "#取1，2行\n",
    "arr[[1,2],:]"
   ]
  },
  {
   "cell_type": "code",
   "execution_count": 8,
   "id": "92063622",
   "metadata": {},
   "outputs": [
    {
     "data": {
      "text/plain": [
       "array([26, 24])"
      ]
     },
     "execution_count": 8,
     "metadata": {},
     "output_type": "execute_result"
    }
   ],
   "source": [
    "#通过bool取数组里的值\n",
    "bool_1=[True,True,False,False,False]\n",
    "arr1=np.random.randint(1,34,size=(5))\n",
    "arr1[bool_1]"
   ]
  },
  {
   "cell_type": "code",
   "execution_count": 9,
   "id": "4a614102",
   "metadata": {},
   "outputs": [
    {
     "data": {
      "text/plain": [
       "array([[35, 19, 10,  4],\n",
       "       [14, 23,  4,  3],\n",
       "       [41, 25, 31, 18]])"
      ]
     },
     "execution_count": 9,
     "metadata": {},
     "output_type": "execute_result"
    }
   ],
   "source": [
    "#取多维\n",
    "arr2=np.random.randint(1,55,size=(3,4))\n",
    "arr2"
   ]
  },
  {
   "cell_type": "code",
   "execution_count": 10,
   "id": "c4a8a82a",
   "metadata": {},
   "outputs": [
    {
     "data": {
      "text/plain": [
       "array([[35, 19, 10,  4],\n",
       "       [14, 23,  4,  3]])"
      ]
     },
     "execution_count": 10,
     "metadata": {},
     "output_type": "execute_result"
    }
   ],
   "source": [
    "#取行\n",
    "bool_2=[True,True,False]\n",
    "arr2[bool_2]"
   ]
  },
  {
   "cell_type": "code",
   "execution_count": 12,
   "id": "f3b967b7",
   "metadata": {},
   "outputs": [
    {
     "data": {
      "text/plain": [
       "array([[35, 19],\n",
       "       [14, 23],\n",
       "       [41, 25]])"
      ]
     },
     "execution_count": 12,
     "metadata": {},
     "output_type": "execute_result"
    }
   ],
   "source": [
    "#取列\n",
    "bool_2=[True,True,False,False]\n",
    "arr2[:,bool_2]"
   ]
  },
  {
   "cell_type": "code",
   "execution_count": 16,
   "id": "a5846819",
   "metadata": {},
   "outputs": [
    {
     "data": {
      "text/plain": [
       "array([[35, 19, 10],\n",
       "       [ 4, 14, 23],\n",
       "       [ 4,  3, 41],\n",
       "       [25, 31, 18]])"
      ]
     },
     "execution_count": 16,
     "metadata": {},
     "output_type": "execute_result"
    }
   ],
   "source": [
    "#改变数组形状\n",
    "arr2=arr2.reshape(4,3)\n",
    "arr2.dyt"
   ]
  },
  {
   "cell_type": "code",
   "execution_count": 33,
   "id": "4dad10b5",
   "metadata": {},
   "outputs": [
    {
     "data": {
      "text/plain": [
       "array([[93, 63, 66,  3],\n",
       "       [58, 14, 99, 79],\n",
       "       [44, 71, 72, 95]])"
      ]
     },
     "execution_count": 33,
     "metadata": {},
     "output_type": "execute_result"
    }
   ],
   "source": [
    "#多行多列\n",
    "arr"
   ]
  },
  {
   "cell_type": "code",
   "execution_count": 36,
   "id": "2b57d53a",
   "metadata": {},
   "outputs": [
    {
     "data": {
      "text/plain": [
       "array([[14, 99],\n",
       "       [71, 72]])"
      ]
     },
     "execution_count": 36,
     "metadata": {},
     "output_type": "execute_result"
    }
   ],
   "source": [
    "arr[[1,2]][:,[1,2]]"
   ]
  },
  {
   "cell_type": "code",
   "execution_count": null,
   "id": "5f268e2e",
   "metadata": {},
   "outputs": [],
   "source": []
  }
 ],
 "metadata": {
  "kernelspec": {
   "display_name": "Python 3 (ipykernel)",
   "language": "python",
   "name": "python3"
  },
  "language_info": {
   "codemirror_mode": {
    "name": "ipython",
    "version": 3
   },
   "file_extension": ".py",
   "mimetype": "text/x-python",
   "name": "python",
   "nbconvert_exporter": "python",
   "pygments_lexer": "ipython3",
   "version": "3.7.8"
  }
 },
 "nbformat": 4,
 "nbformat_minor": 5
}
