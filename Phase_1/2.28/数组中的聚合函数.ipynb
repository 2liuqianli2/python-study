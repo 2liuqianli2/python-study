{
 "cells": [
  {
   "cell_type": "code",
   "execution_count": 1,
   "id": "a5261751",
   "metadata": {},
   "outputs": [],
   "source": [
    "#聚合行数 最大值max 最小值min 求和sum 求平均值mean 求标准方差 std\n",
    "#数组本身可以操作这些功能\n",
    "#numpy本身也提供这些功能"
   ]
  },
  {
   "cell_type": "code",
   "execution_count": 4,
   "id": "a70ca6ed",
   "metadata": {},
   "outputs": [
    {
     "data": {
      "text/plain": [
       "array([[54, 37, 35, 43, 35],\n",
       "       [54, 51, 41, 39, 33],\n",
       "       [52, 46, 34, 45, 53],\n",
       "       [34, 48, 42, 40, 48]])"
      ]
     },
     "execution_count": 4,
     "metadata": {},
     "output_type": "execute_result"
    }
   ],
   "source": [
    "import numpy as np\n",
    "arr=np.random.randint(33,55,size=(4,5))\n",
    "arr"
   ]
  },
  {
   "cell_type": "code",
   "execution_count": 15,
   "id": "e53e4825",
   "metadata": {},
   "outputs": [
    {
     "data": {
      "text/plain": [
       "43.2"
      ]
     },
     "execution_count": 15,
     "metadata": {},
     "output_type": "execute_result"
    }
   ],
   "source": [
    "arr.mean()\n",
    "np.mean(arr)"
   ]
  },
  {
   "cell_type": "code",
   "execution_count": 7,
   "id": "6e37d6a8",
   "metadata": {},
   "outputs": [
    {
     "data": {
      "text/plain": [
       "54"
      ]
     },
     "execution_count": 7,
     "metadata": {},
     "output_type": "execute_result"
    }
   ],
   "source": [
    "arr.max()\n",
    "np.max(arr)"
   ]
  },
  {
   "cell_type": "code",
   "execution_count": 17,
   "id": "d1558bd5",
   "metadata": {},
   "outputs": [
    {
     "data": {
      "text/plain": [
       "array([204, 218, 230, 212])"
      ]
     },
     "execution_count": 17,
     "metadata": {},
     "output_type": "execute_result"
    }
   ],
   "source": [
    "#求每一行的和\n",
    "arr.sum(axis=1)"
   ]
  },
  {
   "cell_type": "code",
   "execution_count": 18,
   "id": "9e80b357",
   "metadata": {},
   "outputs": [
    {
     "data": {
      "text/plain": [
       "array([194, 182, 152, 167, 169])"
      ]
     },
     "execution_count": 18,
     "metadata": {},
     "output_type": "execute_result"
    }
   ],
   "source": [
    "#求每一列的和\n",
    "arr.sum(axis=0)"
   ]
  },
  {
   "cell_type": "code",
   "execution_count": 19,
   "id": "197af32b",
   "metadata": {},
   "outputs": [],
   "source": [
    "#其他操作也可以和sum类似求行或者的值"
   ]
  },
  {
   "cell_type": "code",
   "execution_count": 20,
   "id": "28689688",
   "metadata": {},
   "outputs": [],
   "source": [
    "#all()在一个数组中有一个为Fasle结果就是Fasle 只有全为True结果才是True\n",
    "#any()有一个为True结果就全为True"
   ]
  },
  {
   "cell_type": "code",
   "execution_count": 23,
   "id": "fcd2e990",
   "metadata": {},
   "outputs": [
    {
     "data": {
      "text/plain": [
       "array([False,  True, False,  True, False,  True, False, False,  True,\n",
       "        True])"
      ]
     },
     "execution_count": 23,
     "metadata": {},
     "output_type": "execute_result"
    }
   ],
   "source": [
    "ba =np.random.choice([True,False],size=10)\n",
    "ba"
   ]
  },
  {
   "cell_type": "code",
   "execution_count": 24,
   "id": "2d45af49",
   "metadata": {},
   "outputs": [
    {
     "data": {
      "text/plain": [
       "False"
      ]
     },
     "execution_count": 24,
     "metadata": {},
     "output_type": "execute_result"
    }
   ],
   "source": [
    "all(ba)"
   ]
  },
  {
   "cell_type": "code",
   "execution_count": 25,
   "id": "5e3bb41d",
   "metadata": {},
   "outputs": [
    {
     "data": {
      "text/plain": [
       "True"
      ]
     },
     "execution_count": 25,
     "metadata": {},
     "output_type": "execute_result"
    }
   ],
   "source": [
    "any(ba)"
   ]
  },
  {
   "cell_type": "code",
   "execution_count": 26,
   "id": "47048825",
   "metadata": {},
   "outputs": [
    {
     "ename": "SyntaxError",
     "evalue": "invalid syntax (2205707131.py, line 1)",
     "output_type": "error",
     "traceback": [
      "\u001b[1;36m  File \u001b[1;32m\"C:\\Users\\30477\\AppData\\Local\\Temp\\ipykernel_5800\\2205707131.py\"\u001b[1;36m, line \u001b[1;32m1\u001b[0m\n\u001b[1;33m    + - * % /\u001b[0m\n\u001b[1;37m        ^\u001b[0m\n\u001b[1;31mSyntaxError\u001b[0m\u001b[1;31m:\u001b[0m invalid syntax\n"
     ]
    }
   ],
   "source": [
    " + - * % /\n",
    "这些运算操作针对多个矩阵的相同位置元素进行操作\n"
   ]
  },
  {
   "cell_type": "code",
   "execution_count": 27,
   "id": "070095b3",
   "metadata": {},
   "outputs": [],
   "source": [
    "a=np.random.randint(33,55,size=(3,4))\n",
    "b=np.random.randint(33,55,size=(3,4))"
   ]
  },
  {
   "cell_type": "code",
   "execution_count": 28,
   "id": "711e0feb",
   "metadata": {},
   "outputs": [
    {
     "data": {
      "text/plain": [
       "array([[12, -9, -6,  1],\n",
       "       [ 5, 14, 12,  8],\n",
       "       [14, -8, -4, -4]])"
      ]
     },
     "execution_count": 28,
     "metadata": {},
     "output_type": "execute_result"
    }
   ],
   "source": [
    "a-b"
   ]
  },
  {
   "cell_type": "code",
   "execution_count": null,
   "id": "c845aa99",
   "metadata": {},
   "outputs": [],
   "source": [
    "使用运算符\n",
    "==\n",
    ">\n",
    "<\n",
    "!=\n",
    ">=\n",
    "<="
   ]
  },
  {
   "cell_type": "code",
   "execution_count": 29,
   "id": "bf55735e",
   "metadata": {},
   "outputs": [
    {
     "data": {
      "text/plain": [
       "array([[False, False, False, False],\n",
       "       [False, False, False, False],\n",
       "       [False, False, False, False]])"
      ]
     },
     "execution_count": 29,
     "metadata": {},
     "output_type": "execute_result"
    }
   ],
   "source": [
    "a==b"
   ]
  },
  {
   "cell_type": "code",
   "execution_count": null,
   "id": "692a42da",
   "metadata": {},
   "outputs": [],
   "source": []
  }
 ],
 "metadata": {
  "kernelspec": {
   "display_name": "Python 3 (ipykernel)",
   "language": "python",
   "name": "python3"
  },
  "language_info": {
   "codemirror_mode": {
    "name": "ipython",
    "version": 3
   },
   "file_extension": ".py",
   "mimetype": "text/x-python",
   "name": "python",
   "nbconvert_exporter": "python",
   "pygments_lexer": "ipython3",
   "version": "3.7.8"
  }
 },
 "nbformat": 4,
 "nbformat_minor": 5
}
