{
 "cells": [
  {
   "cell_type": "code",
   "execution_count": 1,
   "id": "e721bddc",
   "metadata": {},
   "outputs": [],
   "source": [
    "import numpy as np\n"
   ]
  },
  {
   "cell_type": "code",
   "execution_count": 2,
   "id": "1559e1d1",
   "metadata": {},
   "outputs": [
    {
     "data": {
      "text/plain": [
       "array([[4, 9, 9, 7, 6],\n",
       "       [4, 2, 3, 7, 6],\n",
       "       [5, 9, 6, 1, 7]])"
      ]
     },
     "metadata": {},
     "output_type": "display_data"
    },
    {
     "data": {
      "text/plain": [
       "array([[5, 9, 5],\n",
       "       [1, 4, 9],\n",
       "       [9, 2, 1],\n",
       "       [3, 5, 9],\n",
       "       [2, 1, 3]])"
      ]
     },
     "metadata": {},
     "output_type": "display_data"
    },
    {
     "data": {
      "text/plain": [
       "array([[143, 131, 191],\n",
       "       [ 82,  91, 122],\n",
       "       [105, 105, 142]])"
      ]
     },
     "metadata": {},
     "output_type": "display_data"
    }
   ],
   "source": [
    "#两个数组相乘\n",
    "arr=np.random.randint(1,10,size=(3,5))\n",
    "arr1=np.random.randint(1,10,size=(5,3))\n",
    "arr2=np.dot(arr,arr1)#数组相乘\n",
    "display(arr,arr1,arr2)"
   ]
  },
  {
   "cell_type": "code",
   "execution_count": null,
   "id": "dcff9bbb",
   "metadata": {},
   "outputs": [],
   "source": [
    "#排序 sort\n",
    "\"\"\"\n",
    "numpy 中的sort  排序不影响自身\n",
    "数组中的sort 排序影响自身\n",
    "\"\"\""
   ]
  }
 ],
 "metadata": {
  "kernelspec": {
   "display_name": "Python 3 (ipykernel)",
   "language": "python",
   "name": "python3"
  },
  "language_info": {
   "codemirror_mode": {
    "name": "ipython",
    "version": 3
   },
   "file_extension": ".py",
   "mimetype": "text/x-python",
   "name": "python",
   "nbconvert_exporter": "python",
   "pygments_lexer": "ipython3",
   "version": "3.7.8"
  }
 },
 "nbformat": 4,
 "nbformat_minor": 5
}
