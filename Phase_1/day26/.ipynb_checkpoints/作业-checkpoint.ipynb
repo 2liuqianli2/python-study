{
 "cells": [
  {
   "cell_type": "code",
   "execution_count": 1,
   "id": "9f2ca7a4",
   "metadata": {},
   "outputs": [],
   "source": [
    "import pandas as pd\n",
    "from pandas import DataFrame,Series\n",
    "import numpy as np"
   ]
  },
  {
   "cell_type": "code",
   "execution_count": 3,
   "id": "8e21af31",
   "metadata": {},
   "outputs": [],
   "source": [
    "da_male=pd.read_excel('./18级高一体测成绩汇总.xls',sheet_name='男')\n",
    "da_female=pd.read_excel('./18级高一体测成绩汇总.xls',sheet_name='女')"
   ]
  },
  {
   "cell_type": "code",
   "execution_count": 16,
   "id": "ab06cc7a",
   "metadata": {},
   "outputs": [
    {
     "data": {
      "text/plain": [
       "<pandas.core.groupby.generic.SeriesGroupBy object at 0x000001B3364DEAC8>"
      ]
     },
     "execution_count": 16,
     "metadata": {},
     "output_type": "execute_result"
    }
   ],
   "source": [
    "goal=pd.read_excel('./体测成绩评分表.xls ')"
   ]
  },
  {
   "cell_type": "code",
   "execution_count": null,
   "id": "4258f9ed",
   "metadata": {},
   "outputs": [],
   "source": []
  }
 ],
 "metadata": {
  "kernelspec": {
   "display_name": "Python 3 (ipykernel)",
   "language": "python",
   "name": "python3"
  },
  "language_info": {
   "codemirror_mode": {
    "name": "ipython",
    "version": 3
   },
   "file_extension": ".py",
   "mimetype": "text/x-python",
   "name": "python",
   "nbconvert_exporter": "python",
   "pygments_lexer": "ipython3",
   "version": "3.7.8"
  }
 },
 "nbformat": 4,
 "nbformat_minor": 5
}
