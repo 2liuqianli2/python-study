{
 "cells": [
  {
   "cell_type": "code",
   "execution_count": 2,
   "id": "3e51c14a",
   "metadata": {},
   "outputs": [],
   "source": [
    "import numpy as np\n",
    "\n",
    "from pandas import Series, DataFrame"
   ]
  },
  {
   "cell_type": "code",
   "execution_count": null,
   "id": "aa17b52d",
   "metadata": {},
   "outputs": [],
   "source": [
    "# 1 Series 创建有两种方式\n",
    "\"\"\"\n",
    "1.通过列表或者一维数组进行创建\n",
    "2.通过字典进行创建\n",
    "\"\"\""
   ]
  },
  {
   "cell_type": "code",
   "execution_count": 5,
   "id": "67a5267c",
   "metadata": {},
   "outputs": [
    {
     "data": {
      "text/plain": [
       "[1, 2, 3, 4, 5, 6]"
      ]
     },
     "metadata": {},
     "output_type": "display_data"
    },
    {
     "data": {
      "text/plain": [
       "array([0, 1, 2, 3, 4, 5, 6])"
      ]
     },
     "metadata": {},
     "output_type": "display_data"
    }
   ],
   "source": [
    "# 通过一维数组进行创建或者数组\n",
    "a=[0,1,2,3,4,5,6]\n",
    "b=np.arange(7)\n",
    "display(a,b)"
   ]
  },
  {
   "cell_type": "code",
   "execution_count": 7,
   "id": "7f646cfb",
   "metadata": {},
   "outputs": [
    {
     "data": {
      "text/plain": [
       "0    1\n",
       "1    2\n",
       "2    3\n",
       "3    4\n",
       "4    5\n",
       "5    6\n",
       "dtype: int64"
      ]
     },
     "execution_count": 7,
     "metadata": {},
     "output_type": "execute_result"
    }
   ],
   "source": [
    "\"\"\"\n",
    "data = 设置数据的\n",
    "index = 设置显式索引 如果没有设置 则默认使用隐式索引\n",
    "\"\"\"\n",
    "s1=Series(data=a)\n",
    "s1"
   ]
  },
  {
   "cell_type": "code",
   "execution_count": 12,
   "id": "82cea3cf",
   "metadata": {},
   "outputs": [
    {
     "data": {
      "text/plain": [
       "a    0\n",
       "s    1\n",
       "d    2\n",
       "f    3\n",
       "g    4\n",
       "h    5\n",
       "j    6\n",
       "dtype: int32"
      ]
     },
     "execution_count": 12,
     "metadata": {},
     "output_type": "execute_result"
    }
   ],
   "source": [
    "index=['a','s','d','f','g','h','j']\n",
    "s2=Series(data=b,index=index)\n",
    "s2"
   ]
  },
  {
   "cell_type": "code",
   "execution_count": null,
   "id": "cbe1b904",
   "metadata": {},
   "outputs": [],
   "source": [
    "\"\"\"\n",
    "使用列表赋值的话 是把列表里面的东西拷贝出来一份新的 给Series\n",
    "使用数组赋值的话 是直接使用数组的地址\n",
    "\"\"\""
   ]
  },
  {
   "cell_type": "code",
   "execution_count": 17,
   "id": "fffe0d85",
   "metadata": {},
   "outputs": [
    {
     "data": {
      "text/plain": [
       "tom      12\n",
       "bob      45\n",
       "alice    89\n",
       "cdcc     99\n",
       "dtype: int64"
      ]
     },
     "execution_count": 17,
     "metadata": {},
     "output_type": "execute_result"
    }
   ],
   "source": [
    "#使用字典赋值\n",
    "#字典的键会自动设置为显式索引\n",
    "#也可以主动设置显式索引 它的优先级高于字典的键\n",
    "#会根据主动设置的显式索引去字典里面匹配值 如果没有就为NAN\n",
    "dic={\n",
    "    'tom':12,\n",
    "    'bob':45,\n",
    "    'alice':89,\n",
    "    'cdcc':99\n",
    "}\n",
    "s3=Series(data=dic)\n",
    "s3"
   ]
  },
  {
   "cell_type": "code",
   "execution_count": 16,
   "id": "27003f5c",
   "metadata": {},
   "outputs": [
    {
     "data": {
      "text/plain": [
       "z   NaN\n",
       "x   NaN\n",
       "c   NaN\n",
       "v   NaN\n",
       "dtype: float64"
      ]
     },
     "execution_count": 16,
     "metadata": {},
     "output_type": "execute_result"
    }
   ],
   "source": [
    "s3=Series(data=dic,index=[\"z\",\"x\",\"c\",\"v\"])\n",
    "s3"
   ]
  },
  {
   "cell_type": "code",
   "execution_count": null,
   "id": "e292ec4b",
   "metadata": {},
   "outputs": [],
   "source": [
    "# 2 索引和切片\n",
    "#可以使用显式索和隐式索引"
   ]
  },
  {
   "cell_type": "code",
   "execution_count": 18,
   "id": "d518e3c5",
   "metadata": {},
   "outputs": [
    {
     "data": {
      "text/plain": [
       "12"
      ]
     },
     "execution_count": 18,
     "metadata": {},
     "output_type": "execute_result"
    }
   ],
   "source": [
    "#可以用字典中键值对的形式获取数据\n",
    "s3['tom']"
   ]
  },
  {
   "cell_type": "code",
   "execution_count": 19,
   "id": "de2eb02b",
   "metadata": {},
   "outputs": [
    {
     "data": {
      "text/plain": [
       "12"
      ]
     },
     "execution_count": 19,
     "metadata": {},
     "output_type": "execute_result"
    }
   ],
   "source": [
    "#可以使用Series中自有的 类似于属性的形式取值\n",
    "s3.tom"
   ]
  },
  {
   "cell_type": "code",
   "execution_count": 21,
   "id": "52e2ce1c",
   "metadata": {},
   "outputs": [
    {
     "data": {
      "text/plain": [
       "12"
      ]
     },
     "execution_count": 21,
     "metadata": {},
     "output_type": "execute_result"
    }
   ],
   "source": [
    "# .loc 推荐形式\n",
    "s3.loc[\"tom\"]"
   ]
  },
  {
   "cell_type": "code",
   "execution_count": 23,
   "id": "e6f6ceec",
   "metadata": {},
   "outputs": [
    {
     "data": {
      "text/plain": [
       "tom    12\n",
       "bob    45\n",
       "dtype: int64"
      ]
     },
     "execution_count": 23,
     "metadata": {},
     "output_type": "execute_result"
    }
   ],
   "source": [
    "s3.loc[['tom','bob']]"
   ]
  },
  {
   "cell_type": "code",
   "execution_count": 24,
   "id": "00d3c224",
   "metadata": {},
   "outputs": [
    {
     "data": {
      "text/plain": [
       "12"
      ]
     },
     "execution_count": 24,
     "metadata": {},
     "output_type": "execute_result"
    }
   ],
   "source": [
    "#还可以使用bool列表取值\n",
    "#隐式索引用 .iloc取值\n",
    "s3.iloc[0]"
   ]
  },
  {
   "cell_type": "code",
   "execution_count": 25,
   "id": "db63cad1",
   "metadata": {},
   "outputs": [
    {
     "data": {
      "text/plain": [
       "tom    12\n",
       "bob    45\n",
       "dtype: int64"
      ]
     },
     "execution_count": 25,
     "metadata": {},
     "output_type": "execute_result"
    }
   ],
   "source": [
    "# 显式索引切片\n",
    "s3.loc['tom':'bob'] #前闭后闭"
   ]
  },
  {
   "cell_type": "code",
   "execution_count": 30,
   "id": "8ca9369f",
   "metadata": {},
   "outputs": [
    {
     "data": {
      "text/plain": [
       "tom    12\n",
       "bob    45\n",
       "dtype: int64"
      ]
     },
     "execution_count": 30,
     "metadata": {},
     "output_type": "execute_result"
    }
   ],
   "source": [
    "#隐式切片\n",
    "s3.iloc[0:2] #前闭后开"
   ]
  },
  {
   "cell_type": "code",
   "execution_count": 35,
   "id": "335b4ded",
   "metadata": {},
   "outputs": [
    {
     "data": {
      "text/plain": [
       "(6,)"
      ]
     },
     "metadata": {},
     "output_type": "display_data"
    },
    {
     "data": {
      "text/plain": [
       "6"
      ]
     },
     "metadata": {},
     "output_type": "display_data"
    },
    {
     "data": {
      "text/plain": [
       "RangeIndex(start=0, stop=6, step=1)"
      ]
     },
     "metadata": {},
     "output_type": "display_data"
    },
    {
     "data": {
      "text/plain": [
       "array([ 1,  2,  3,  4, 56,  6], dtype=int64)"
      ]
     },
     "metadata": {},
     "output_type": "display_data"
    },
    {
     "data": {
      "text/plain": [
       "4    56\n",
       "5     6\n",
       "dtype: int64"
      ]
     },
     "metadata": {},
     "output_type": "display_data"
    },
    {
     "data": {
      "text/plain": [
       "0    1\n",
       "1    2\n",
       "dtype: int64"
      ]
     },
     "metadata": {},
     "output_type": "display_data"
    }
   ],
   "source": [
    "# Series 中的一些属性和方法\n",
    "\"\"\"\n",
    "shape形状 size元素个数  index显式索引  values 数据\n",
    "\n",
    "\"\"\"\n",
    "s=Series(data=[1,2,3,4,56,6])\n",
    "a=s.shape\n",
    "b=s.size\n",
    "c=s.index\n",
    "d=s.values\n",
    "e=s.tail(2)#后面两个\n",
    "f=s.head(2)#前面两个\n",
    "display(a,b,c,d,e,f)"
   ]
  },
  {
   "cell_type": "code",
   "execution_count": 38,
   "id": "b9f169fa",
   "metadata": {},
   "outputs": [
    {
     "data": {
      "text/plain": [
       "11    5\n",
       "10    4\n",
       "4     4\n",
       "8     3\n",
       "1     3\n",
       "7     2\n",
       "14    2\n",
       "0     2\n",
       "3     2\n",
       "6     2\n",
       "2     1\n",
       "dtype: int64"
      ]
     },
     "execution_count": 38,
     "metadata": {},
     "output_type": "execute_result"
    }
   ],
   "source": [
    "#统计元素出现的个数\n",
    "a=np.random.randint(0,15,size=30)\n",
    "s=Series(data=a)\n",
    "s.value_counts()"
   ]
  },
  {
   "cell_type": "code",
   "execution_count": 42,
   "id": "cab00149",
   "metadata": {},
   "outputs": [
    {
     "data": {
      "text/plain": [
       "d     0\n",
       "s     2\n",
       "g     3\n",
       "a    10\n",
       "f    13\n",
       "dtype: int32"
      ]
     },
     "metadata": {},
     "output_type": "display_data"
    },
    {
     "data": {
      "text/plain": [
       "a    10\n",
       "d     0\n",
       "f    13\n",
       "g     3\n",
       "s     2\n",
       "dtype: int32"
      ]
     },
     "metadata": {},
     "output_type": "display_data"
    }
   ],
   "source": [
    "#排序\n",
    "a=np.random.randint(0,15,size=5)\n",
    "\n",
    "s=Series(data=a,index=list('asdfg'))\n",
    "a=s.sort_values() #根据值\n",
    "b=s.sort_index()#根据键 ascending=False 降序排列\n",
    "\n",
    "display(a,b)"
   ]
  },
  {
   "cell_type": "code",
   "execution_count": 45,
   "id": "04e9cb97",
   "metadata": {},
   "outputs": [
    {
     "data": {
      "text/plain": [
       "小米    False\n",
       "小1     True\n",
       "小红    False\n",
       "小2     True\n",
       "李子    False\n",
       "dtype: bool"
      ]
     },
     "metadata": {},
     "output_type": "display_data"
    },
    {
     "data": {
      "text/plain": [
       "小米     True\n",
       "小1    False\n",
       "小红     True\n",
       "小2    False\n",
       "李子     True\n",
       "dtype: bool"
      ]
     },
     "metadata": {},
     "output_type": "display_data"
    }
   ],
   "source": [
    "# 判断数据是否是NAN isnull  是否不是 notnull  pandas中有 series中也有\n",
    "dic={\n",
    "    '小米':23,\n",
    "    '小花':24,\n",
    "    '小红':34,\n",
    "    '小李':90,\n",
    "    '李子':56\n",
    "}\n",
    "s=Series(data=dic,index=['小米','小1','小红','小2','李子'])\n",
    "a=s.isnull()\n",
    "b=s.notnull()\n",
    "display(a,b)"
   ]
  },
  {
   "cell_type": "code",
   "execution_count": 47,
   "id": "97c5f536",
   "metadata": {},
   "outputs": [
    {
     "data": {
      "text/plain": [
       "小米    23.0\n",
       "小红    34.0\n",
       "李子    56.0\n",
       "dtype: float64"
      ]
     },
     "execution_count": 47,
     "metadata": {},
     "output_type": "execute_result"
    }
   ],
   "source": [
    "#打印出数值不为NAN的人\n",
    "s[s.notnull()]"
   ]
  },
  {
   "cell_type": "code",
   "execution_count": null,
   "id": "f29d0612",
   "metadata": {},
   "outputs": [],
   "source": [
    "\"\"\"\n",
    "series中的运算 series 是基于numpy所以他也有广播机制\n",
    "对索引位置的值加减乘除 如果另外一个series中没有的索引则为nan\n",
    "+ add() fill_value=0--参数的作用如果相加为nan 则用0来代替\n",
    "-\n",
    "*\n",
    "/\n",
    "\"\"\""
   ]
  }
 ],
 "metadata": {
  "kernelspec": {
   "display_name": "Python 3 (ipykernel)",
   "language": "python",
   "name": "python3"
  },
  "language_info": {
   "codemirror_mode": {
    "name": "ipython",
    "version": 3
   },
   "file_extension": ".py",
   "mimetype": "text/x-python",
   "name": "python",
   "nbconvert_exporter": "python",
   "pygments_lexer": "ipython3",
   "version": "3.7.8"
  }
 },
 "nbformat": 4,
 "nbformat_minor": 5
}
