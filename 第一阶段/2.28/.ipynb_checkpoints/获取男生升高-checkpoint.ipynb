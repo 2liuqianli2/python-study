{
 "cells": [
  {
   "cell_type": "code",
   "execution_count": 1,
   "id": "3e5cd89b",
   "metadata": {},
   "outputs": [
    {
     "data": {
      "text/plain": [
       "array([156, 183, 183, 157, 178, 172, 193, 186, 189, 151])"
      ]
     },
     "execution_count": 1,
     "metadata": {},
     "output_type": "execute_result"
    }
   ],
   "source": [
    "import numpy as np\n",
    "arr=np.random.randint(150,200,size=10)\n",
    "arr\n",
    "#获取男生身高"
   ]
  },
  {
   "cell_type": "code",
   "execution_count": 2,
   "id": "eadcd7a7",
   "metadata": {},
   "outputs": [
    {
     "data": {
      "text/plain": [
       "array(['女', '男', '女', '男', '男', '男', '男', '女', '女', '女'], dtype='<U1')"
      ]
     },
     "execution_count": 2,
     "metadata": {},
     "output_type": "execute_result"
    }
   ],
   "source": [
    "genner=np.random.choice([\"男\",\"女\"],size=10)\n",
    "genner"
   ]
  },
  {
   "cell_type": "code",
   "execution_count": 8,
   "id": "dc5e5dcd",
   "metadata": {},
   "outputs": [],
   "source": [
    "arr=np.vstack((arr,genner))"
   ]
  },
  {
   "cell_type": "code",
   "execution_count": 9,
   "id": "5cb3215d",
   "metadata": {},
   "outputs": [
    {
     "data": {
      "text/plain": [
       "array([['156', '183', '183', '157', '178', '172', '193', '186', '189',\n",
       "        '151'],\n",
       "       ['女', '男', '女', '男', '男', '男', '男', '女', '女', '女']], dtype='<U11')"
      ]
     },
     "execution_count": 9,
     "metadata": {},
     "output_type": "execute_result"
    }
   ],
   "source": [
    "arr"
   ]
  },
  {
   "cell_type": "code",
   "execution_count": 20,
   "id": "3cb4ca1c",
   "metadata": {},
   "outputs": [
    {
     "data": {
      "text/plain": [
       "array([['156', '女'],\n",
       "       ['183', '男'],\n",
       "       ['183', '女'],\n",
       "       ['157', '男'],\n",
       "       ['178', '男'],\n",
       "       ['172', '男'],\n",
       "       ['193', '男'],\n",
       "       ['186', '女'],\n",
       "       ['189', '女'],\n",
       "       ['151', '女']], dtype='<U11')"
      ]
     },
     "execution_count": 20,
     "metadata": {},
     "output_type": "execute_result"
    }
   ],
   "source": [
    "arr=arr.T\n",
    "arr"
   ]
  },
  {
   "cell_type": "code",
   "execution_count": 28,
   "id": "a9860e55",
   "metadata": {},
   "outputs": [
    {
     "data": {
      "text/plain": [
       "array([False,  True, False,  True,  True,  True,  True, False, False,\n",
       "       False])"
      ]
     },
     "execution_count": 28,
     "metadata": {},
     "output_type": "execute_result"
    }
   ],
   "source": [
    "a=arr[:,1]=='男'\n",
    "a"
   ]
  },
  {
   "cell_type": "code",
   "execution_count": 29,
   "id": "35f93e34",
   "metadata": {},
   "outputs": [
    {
     "data": {
      "text/plain": [
       "array([['156', '女'],\n",
       "       ['183', '男'],\n",
       "       ['183', '女'],\n",
       "       ['157', '男'],\n",
       "       ['178', '男'],\n",
       "       ['172', '男'],\n",
       "       ['193', '男'],\n",
       "       ['186', '女'],\n",
       "       ['189', '女'],\n",
       "       ['151', '女']], dtype='<U11')"
      ]
     },
     "execution_count": 29,
     "metadata": {},
     "output_type": "execute_result"
    }
   ],
   "source": [
    "arr"
   ]
  },
  {
   "cell_type": "code",
   "execution_count": 31,
   "id": "7143f59b",
   "metadata": {},
   "outputs": [
    {
     "data": {
      "text/plain": [
       "array([['183', '男'],\n",
       "       ['157', '男'],\n",
       "       ['178', '男'],\n",
       "       ['172', '男'],\n",
       "       ['193', '男']], dtype='<U11')"
      ]
     },
     "execution_count": 31,
     "metadata": {},
     "output_type": "execute_result"
    }
   ],
   "source": [
    "b=arr[a]\n",
    "b"
   ]
  },
  {
   "cell_type": "code",
   "execution_count": null,
   "id": "11bc44ee",
   "metadata": {},
   "outputs": [],
   "source": [
    "#获取难受平均身高"
   ]
  },
  {
   "cell_type": "code",
   "execution_count": 32,
   "id": "dd46f416",
   "metadata": {},
   "outputs": [
    {
     "data": {
      "text/plain": [
       "176.6"
      ]
     },
     "execution_count": 32,
     "metadata": {},
     "output_type": "execute_result"
    }
   ],
   "source": [
    "male=b[:,0]\n",
    "male=male.astype('i4').mean()\n",
    "male"
   ]
  },
  {
   "cell_type": "code",
   "execution_count": null,
   "id": "d6f53832",
   "metadata": {},
   "outputs": [],
   "source": []
  },
  {
   "cell_type": "code",
   "execution_count": null,
   "id": "0dda3347",
   "metadata": {},
   "outputs": [],
   "source": []
  }
 ],
 "metadata": {
  "kernelspec": {
   "display_name": "Python 3 (ipykernel)",
   "language": "python",
   "name": "python3"
  },
  "language_info": {
   "codemirror_mode": {
    "name": "ipython",
    "version": 3
   },
   "file_extension": ".py",
   "mimetype": "text/x-python",
   "name": "python",
   "nbconvert_exporter": "python",
   "pygments_lexer": "ipython3",
   "version": "3.7.8"
  }
 },
 "nbformat": 4,
 "nbformat_minor": 5
}
