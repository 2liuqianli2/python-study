{
 "cells": [
  {
   "cell_type": "code",
   "execution_count": 1,
   "id": "3a607c47",
   "metadata": {},
   "outputs": [],
   "source": [
    "import numpy as np\n"
   ]
  },
  {
   "cell_type": "code",
   "execution_count": 2,
   "id": "dc2ce6e2",
   "metadata": {},
   "outputs": [
    {
     "data": {
      "text/plain": [
       "array([[4, 9, 9, 7, 6],\n",
       "       [4, 2, 3, 7, 6],\n",
       "       [5, 9, 6, 1, 7]])"
      ]
     },
     "metadata": {},
     "output_type": "display_data"
    },
    {
     "data": {
      "text/plain": [
       "array([[5, 9, 5],\n",
       "       [1, 4, 9],\n",
       "       [9, 2, 1],\n",
       "       [3, 5, 9],\n",
       "       [2, 1, 3]])"
      ]
     },
     "metadata": {},
     "output_type": "display_data"
    },
    {
     "data": {
      "text/plain": [
       "array([[143, 131, 191],\n",
       "       [ 82,  91, 122],\n",
       "       [105, 105, 142]])"
      ]
     },
     "metadata": {},
     "output_type": "display_data"
    }
   ],
   "source": [
    "#两个数组相乘\n",
    "arr=np.random.randint(1,10,size=(3,5))\n",
    "arr1=np.random.randint(1,10,size=(5,3))\n",
    "arr2=np.dot(arr,arr1)#数组相乘\n",
    "display(arr,arr1,arr2)"
   ]
  },
  {
   "cell_type": "code",
   "execution_count": null,
   "id": "da1b108f",
   "metadata": {},
   "outputs": [],
   "source": [
    "#排序 sort\n",
    "\"\"\"\n",
    "numpy 中的sort  排序不影响自身\n",
    "数组中的sort 排序影响自身\n",
    "\"\"\""
   ]
  },
  {
   "cell_type": "code",
   "execution_count": 47,
   "id": "9d9b6fd0",
   "metadata": {},
   "outputs": [
    {
     "data": {
      "text/plain": [
       "array([10, 62,  6, 21,  2, 56, 25, 63, 41, 35, 76, 68, 90, 72, 67, 79, 29,\n",
       "       36,  5, 86, 18, 42, 64, 60, 58, 81, 49, 47, 84, 26, 11, 23, 12, 13,\n",
       "       48, 45, 31, 96,  4, 44, 30, 71, 37, 51,  1, 52, 61, 66, 39, 83, 46,\n",
       "       53, 34, 65, 70, 43, 87, 59, 89, 78, 97, 27, 14, 91, 15, 74, 16, 24,\n",
       "       17, 22, 33, 93, 20,  0, 77, 55, 50, 88, 38, 54, 73, 40,  9, 85,  8,\n",
       "        3, 80, 19, 94, 99, 95, 69, 28, 57, 32, 98,  7, 82, 92, 75])"
      ]
     },
     "execution_count": 47,
     "metadata": {},
     "output_type": "execute_result"
    }
   ],
   "source": [
    "#部分排序\n",
    "# numpy.partition() 部分排序\n",
    "a=np.random.permutation(100)#从零开始到指定数据 随机的生成的是指定数据的长度\n",
    "a\n",
    " "
   ]
  },
  {
   "cell_type": "code",
   "execution_count": 6,
   "id": "fa75c731",
   "metadata": {},
   "outputs": [
    {
     "data": {
      "text/plain": [
       "array([ 0,  1,  2,  3,  4,  5,  6,  7,  8,  9, 10, 11, 12, 13, 14, 15, 16,\n",
       "       17, 18, 19, 20, 21, 22, 23, 24, 25, 26, 27, 28, 29, 30, 31, 32, 33,\n",
       "       34, 35, 36, 37, 38, 39, 40, 41, 42, 43, 44, 45, 46, 47, 48, 49, 50,\n",
       "       51, 52, 53, 54, 55, 56, 57, 58, 59, 60, 61, 62, 63, 64, 65, 66, 67,\n",
       "       68, 69, 70, 71, 72, 73, 74, 75, 76, 77, 78, 79, 80, 81, 82, 83, 84,\n",
       "       85, 86, 87, 88, 89, 90, 91, 92, 93, 94, 95, 96, 97, 98, 99])"
      ]
     },
     "execution_count": 6,
     "metadata": {},
     "output_type": "execute_result"
    }
   ],
   "source": [
    "a.sort()\n",
    "a"
   ]
  },
  {
   "cell_type": "code",
   "execution_count": 8,
   "id": "a37ab6bf",
   "metadata": {},
   "outputs": [
    {
     "data": {
      "text/plain": [
       "'\\nkth \\n    如果是正数  获取前几个最小的数\\n    如果是负数  获取前几个最大的数   数据在数组后端\\n'"
      ]
     },
     "execution_count": 8,
     "metadata": {},
     "output_type": "execute_result"
    }
   ],
   "source": [
    "\"\"\"\n",
    "kth \n",
    "    如果是正数  获取前几个最小的数\n",
    "    如果是负数  获取前几个最大的数   数据在数组后端\n",
    "\"\"\""
   ]
  },
  {
   "cell_type": "code",
   "execution_count": 48,
   "id": "a5b461c9",
   "metadata": {},
   "outputs": [
    {
     "data": {
      "text/plain": [
       "array([55, 10,  6, 21,  2, 56, 25, 63, 41, 35,  7, 68, 32, 72, 67, 57, 29,\n",
       "       36,  5, 28, 18, 42, 64, 60, 58, 69, 49, 47, 19, 26, 11, 23, 12, 13,\n",
       "       48, 45, 31,  3,  4, 44, 30, 71, 37, 51,  1, 52, 61, 66, 39, 62, 46,\n",
       "       53, 34, 65, 70, 43,  8, 59,  9, 40, 73, 27, 14, 54, 15, 74, 16, 24,\n",
       "       17, 22, 33, 38, 20,  0, 50, 75, 80, 77, 82, 76, 79, 78, 81, 83, 86,\n",
       "       84, 85, 87, 90, 89, 92, 93, 88, 91, 94, 98, 99, 96, 95, 97])"
      ]
     },
     "execution_count": 48,
     "metadata": {},
     "output_type": "execute_result"
    }
   ],
   "source": [
    "np.partition(a,-6)"
   ]
  },
  {
   "cell_type": "code",
   "execution_count": 65,
   "id": "d69f27b3",
   "metadata": {},
   "outputs": [
    {
     "data": {
      "text/plain": [
       "array([ 0,  1,  3,  4,  2,  5,  6,  7,  8,  9, 10, 11, 12, 19, 13, 17, 15,\n",
       "       14, 20, 21, 18, 16, 22, 24, 28, 27, 23, 25, 26, 29, 30, 33, 32, 31,\n",
       "       34, 45, 48, 47, 49, 44, 42, 36, 37, 40, 38, 35, 41, 43, 39, 46, 50,\n",
       "       53, 62, 65, 70, 66, 61, 59, 52, 51, 73, 71, 69, 54, 58, 74, 60, 64,\n",
       "       57, 67, 72, 68, 63, 56, 55, 75, 77, 88, 93, 91, 97, 78, 89, 85, 87,\n",
       "       96, 80, 84, 94, 99, 95, 81, 86, 79, 90, 98, 76, 82, 92, 83])"
      ]
     },
     "execution_count": 65,
     "metadata": {},
     "output_type": "execute_result"
    }
   ],
   "source": [
    "np.partition(a,6)"
   ]
  },
  {
   "cell_type": "code",
   "execution_count": null,
   "id": "512e9162",
   "metadata": {},
   "outputs": [],
   "source": []
  }
 ],
 "metadata": {
  "kernelspec": {
   "display_name": "Python 3 (ipykernel)",
   "language": "python",
   "name": "python3"
  },
  "language_info": {
   "codemirror_mode": {
    "name": "ipython",
    "version": 3
   },
   "file_extension": ".py",
   "mimetype": "text/x-python",
   "name": "python",
   "nbconvert_exporter": "python",
   "pygments_lexer": "ipython3",
   "version": "3.7.8"
  }
 },
 "nbformat": 4,
 "nbformat_minor": 5
}
