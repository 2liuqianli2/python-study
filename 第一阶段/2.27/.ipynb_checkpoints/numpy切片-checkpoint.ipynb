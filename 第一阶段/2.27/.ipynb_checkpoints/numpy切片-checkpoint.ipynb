{
 "cells": [
  {
   "cell_type": "code",
   "execution_count": 5,
   "id": "f761700a",
   "metadata": {},
   "outputs": [],
   "source": [
    "import numpy as np\n"
   ]
  },
  {
   "cell_type": "code",
   "execution_count": null,
   "id": "de795e5c",
   "metadata": {},
   "outputs": [],
   "source": []
  },
  {
   "cell_type": "code",
   "execution_count": 6,
   "id": "bbe0707b",
   "metadata": {},
   "outputs": [
    {
     "data": {
      "text/plain": [
       "array([[76, 78, 69, 40, 45, 65],\n",
       "       [77, 34, 95, 84, 61, 62],\n",
       "       [70, 73, 75, 65, 43, 73],\n",
       "       [91, 43, 71, 55, 39, 63],\n",
       "       [95, 33, 77, 54, 97, 75]])"
      ]
     },
     "execution_count": 6,
     "metadata": {},
     "output_type": "execute_result"
    }
   ],
   "source": [
    "arr=np.random.randint(30,100,size=(5,6))\n",
    "arr"
   ]
  },
  {
   "cell_type": "code",
   "execution_count": 7,
   "id": "4d0e6a5f",
   "metadata": {},
   "outputs": [
    {
     "data": {
      "text/plain": [
       "array([[95, 33, 77, 54, 97, 75],\n",
       "       [91, 43, 71, 55, 39, 63],\n",
       "       [70, 73, 75, 65, 43, 73],\n",
       "       [77, 34, 95, 84, 61, 62],\n",
       "       [76, 78, 69, 40, 45, 65]])"
      ]
     },
     "execution_count": 7,
     "metadata": {},
     "output_type": "execute_result"
    }
   ],
   "source": [
    "#倒置横\n",
    "arr[::-1]"
   ]
  },
  {
   "cell_type": "code",
   "execution_count": 8,
   "id": "316c4135",
   "metadata": {},
   "outputs": [
    {
     "data": {
      "text/plain": [
       "array([[65, 45, 40, 69, 78, 76],\n",
       "       [62, 61, 84, 95, 34, 77],\n",
       "       [73, 43, 65, 75, 73, 70],\n",
       "       [63, 39, 55, 71, 43, 91],\n",
       "       [75, 97, 54, 77, 33, 95]])"
      ]
     },
     "execution_count": 8,
     "metadata": {},
     "output_type": "execute_result"
    }
   ],
   "source": [
    "#倒置列\n",
    "arr[:,::-1]"
   ]
  }
 ],
 "metadata": {
  "kernelspec": {
   "display_name": "Python 3 (ipykernel)",
   "language": "python",
   "name": "python3"
  },
  "language_info": {
   "codemirror_mode": {
    "name": "ipython",
    "version": 3
   },
   "file_extension": ".py",
   "mimetype": "text/x-python",
   "name": "python",
   "nbconvert_exporter": "python",
   "pygments_lexer": "ipython3",
   "version": "3.7.8"
  }
 },
 "nbformat": 4,
 "nbformat_minor": 5
}
